{
  "nbformat": 4,
  "nbformat_minor": 0,
  "metadata": {
    "colab": {
      "provenance": []
    },
    "kernelspec": {
      "name": "python3",
      "display_name": "Python 3"
    },
    "language_info": {
      "name": "python"
    }
  },
  "cells": [
    {
      "cell_type": "code",
      "execution_count": null,
      "metadata": {
        "id": "46tbsPKM88Hj"
      },
      "outputs": [],
      "source": [
        "A = int(input(\"Digite o valor de A: \"))\n",
        "B = int(input(\"Digite o valor de B: \"))\n",
        "C = int(input(\"Digite o valor de C: \"))\n",
        "soma = A + B\n",
        "print(\"Soma de A + B:\", soma)\n",
        "print(\"A soma é menor que C?\", soma < C)"
      ]
    },
    {
      "cell_type": "code",
      "source": [
        "num = int(input(\"Digite um número: \"))\n",
        "print(\"Par\" if num % 2 == 0 else \"Ímpar\")\n",
        "print(\"Positivo\" if num >= 0 else \"Negativo\")\n"
      ],
      "metadata": {
        "id": "TGwlbW8q9MZa"
      },
      "execution_count": null,
      "outputs": []
    },
    {
      "cell_type": "code",
      "source": [
        "A = int(input(\"Digite A: \"))\n",
        "B = int(input(\"Digite B: \"))\n",
        "C = A + B if A == B else A * B\n",
        "print(\"Resultado C:\", C)"
      ],
      "metadata": {
        "id": "gcL50EJw9YUw"
      },
      "execution_count": null,
      "outputs": []
    },
    {
      "cell_type": "code",
      "source": [
        "num = int(input(\"Digite um número: \"))\n",
        "print(\"Antecessor:\", num - 1)\n",
        "print(\"Sucessor:\", num + 1)"
      ],
      "metadata": {
        "id": "tmafgP9k9YrP"
      },
      "execution_count": null,
      "outputs": []
    },
    {
      "cell_type": "code",
      "source": [
        "sal_min = 1518.00\n",
        "sal_usuario = float(input(\"Digite o salário do usuário: \"))\n",
        "quant_salarios = sal_usuario / sal_min\n",
        "print(\"Você ganha {:.2f} salários mínimos\".format(quant_salarios))"
      ],
      "metadata": {
        "id": "FRB2tYD89Y1M"
      },
      "execution_count": null,
      "outputs": []
    },
    {
      "cell_type": "code",
      "source": [
        "valor = float(input(\"Digite o valor: \"))\n",
        "reajuste = valor * 1.05\n",
        "print(\"Valor com reajuste de 5%:\", reajuste)"
      ],
      "metadata": {
        "id": "hE_KmATf9Y-o"
      },
      "execution_count": null,
      "outputs": []
    },
    {
      "cell_type": "code",
      "source": [
        "a = int(input(\"Digite o primeiro valor (1 para Verdadeiro, 0 para Falso): \"))\n",
        "b = int(input(\"Digite o segundo valor (1 para Verdadeiro, 0 para Falso): \"))\n",
        "if a == b:\n",
        "    print(\"Ambos são\", \"VERDADEIROS\" if a == 1 else \"FALSOS\")\n",
        "else:\n",
        "    print(\"Os valores são diferentes.\")"
      ],
      "metadata": {
        "id": "ef8zMZYl9ZIR"
      },
      "execution_count": null,
      "outputs": []
    },
    {
      "cell_type": "code",
      "source": [
        "valores = []\n",
        "for i in range(3):\n",
        "    valores.append(int(input(f\"Digite o valor {i+1}: \")))\n",
        "valores.sort(reverse=True)\n",
        "print(\"Valores em ordem decrescente:\", valores)\n"
      ],
      "metadata": {
        "id": "cF8tLCzt9ZSx"
      },
      "execution_count": null,
      "outputs": []
    },
    {
      "cell_type": "code",
      "source": [
        "peso = float(input(\"Digite o peso (kg): \"))\n",
        "altura = float(input(\"Digite a altura (m): \"))\n",
        "imc = peso / (altura ** 2)\n",
        "\n",
        "print(f\"IMC: {imc:.2f}\")\n",
        "if imc < 18.5:\n",
        "    print(\"Abaixo do peso\")\n",
        "elif imc < 25:\n",
        "    print(\"Peso ideal (parabéns)\")\n",
        "elif imc < 30:\n",
        "    print(\"Levemente acima do peso\")\n",
        "elif imc < 35:\n",
        "    print(\"Obesidade grau I\")\n",
        "elif imc < 40:\n",
        "    print(\"Obesidade grau II (severa)\")\n",
        "else:\n",
        "    print(\"Obesidade grau III (mórbida)\")"
      ],
      "metadata": {
        "id": "9uyjO-0p9ZbY"
      },
      "execution_count": null,
      "outputs": []
    },
    {
      "cell_type": "code",
      "source": [
        "notas = [float(input(f\"Digite a nota {i+1}: \")) for i in range(3)]\n",
        "media = sum(notas) / 3\n",
        "print(\"Média das notas:\", media)"
      ],
      "metadata": {
        "id": "XNaFb5ft9Zk4"
      },
      "execution_count": null,
      "outputs": []
    },
    {
      "cell_type": "code",
      "source": [
        "nome = input(\"Digite o nome do aluno: \")\n",
        "notas = [float(input(f\"Nota {i+1}: \")) for i in range(4)]\n",
        "media = sum(notas) / 4\n",
        "print(f\"{nome}, sua média foi {media:.2f}\")\n",
        "print(\"Aprovado!\" if media >= 7 else \"Reprovado!\")"
      ],
      "metadata": {
        "id": "YHcViJUl9ZvA"
      },
      "execution_count": null,
      "outputs": []
    },
    {
      "cell_type": "code",
      "source": [
        "valor = float(input(\"Digite o valor do produto: \"))\n",
        "print(\"Formas de pagamento:\")\n",
        "print(\"1 - Dinheiro ou Pix (15% de desconto)\")\n",
        "print(\"2 - Cartão de crédito à vista (10% de desconto)\")\n",
        "print(\"3 - Cartão em 2x (sem juros)\")\n",
        "print(\"4 - Cartão 3x ou mais (10% de juros)\")\n",
        "codigo = int(input(\"Digite o código da forma de pagamento: \"))\n",
        "\n",
        "if codigo == 1:\n",
        "    total = valor * 0.85\n",
        "elif codigo == 2:\n",
        "    total = valor * 0.90\n",
        "elif codigo == 3:\n",
        "    total = valor\n",
        "elif codigo == 4:\n",
        "    total = valor * 1.10\n",
        "else:\n",
        "    total = valor\n",
        "    print(\"Código inválido. Preço sem alteração.\")\n",
        "\n",
        "print(f\"Valor a pagar: R$ {total:.2f}\")"
      ],
      "metadata": {
        "id": "lsGOdbzX9Z3x"
      },
      "execution_count": null,
      "outputs": []
    },
    {
      "cell_type": "code",
      "source": [
        "nome = input(\"Digite o nome: \")\n",
        "idade = int(input(\"Digite a idade: \"))\n",
        "print(f\"{nome} é\", \"maior de idade.\" if idade >= 18 else \"menor de idade.\")"
      ],
      "metadata": {
        "id": "luSyNS6n9aAM"
      },
      "execution_count": null,
      "outputs": []
    },
    {
      "cell_type": "code",
      "source": [
        "A = input(\"Digite o valor de A: \")\n",
        "B = input(\"Digite o valor de B: \")\n",
        "A, B = B, A\n",
        "print(\"Novo valor de A:\", A)\n",
        "print(\"Novo valor de B:\", B)\n"
      ],
      "metadata": {
        "id": "76EwhDST9aJX"
      },
      "execution_count": null,
      "outputs": []
    },
    {
      "cell_type": "code",
      "source": [
        "ano_nasc = int(input(\"Digite o ano de nascimento: \"))\n",
        "ano_atual = 2025\n",
        "anos = ano_atual - ano_nasc\n",
        "meses = anos * 12\n",
        "dias = anos * 365\n",
        "print(f\"Você viveu: {anos} anos, {meses} meses e {dias} dias.\")"
      ],
      "metadata": {
        "id": "yS8BUDD09aTZ"
      },
      "execution_count": null,
      "outputs": []
    },
    {
      "cell_type": "code",
      "source": [
        "l1 = int(input(\"Lado 1: \"))\n",
        "l2 = int(input(\"Lado 2: \"))\n",
        "l3 = int(input(\"Lado 3: \"))\n",
        "\n",
        "if l1 + l2 > l3 and l1 + l3 > l2 and l2 + l3 > l1:\n",
        "    if l1 == l2 == l3:\n",
        "        print(\"Triângulo Equilátero\")\n",
        "    elif l1 == l2 or l1 == l3 or l2 == l3:\n",
        "        print(\"Triângulo Isósceles\")\n",
        "    else:\n",
        "        print(\"Triângulo Escaleno\")\n",
        "else:\n",
        "    print(\"Não forma um triângulo\")"
      ],
      "metadata": {
        "id": "wKXVE_sb9afe"
      },
      "execution_count": null,
      "outputs": []
    },
    {
      "cell_type": "code",
      "source": [
        "f = float(input(\"Temperatura em Fahrenheit: \"))\n",
        "c = (5 * (f - 32)) / 9\n",
        "print(f\"{f}°F é igual a {c:.2f}°C\")"
      ],
      "metadata": {
        "id": "jXiYaU9-9apn"
      },
      "execution_count": null,
      "outputs": []
    },
    {
      "cell_type": "code",
      "source": [
        "francisco = 1.50\n",
        "sara = 1.10\n",
        "anos = 0\n",
        "\n",
        "while sara <= francisco:\n",
        "    francisco += 0.02\n",
        "    sara += 0.03\n",
        "    anos += 1\n",
        "\n",
        "print(f\"Sara será mais alta que Francisco em {anos} anos.\")"
      ],
      "metadata": {
        "id": "1eDL1Mnu9ay-"
      },
      "execution_count": null,
      "outputs": []
    },
    {
      "cell_type": "code",
      "source": [
        "for i in range(1, 11):\n",
        "    print(f\"Tabuada do {i}\")\n",
        "    for j in range(1, 11):\n",
        "        print(f\"{i} x {j} = {i*j}\")\n",
        "    print()"
      ],
      "metadata": {
        "id": "aq6vbsoO9a9K"
      },
      "execution_count": null,
      "outputs": []
    },
    {
      "cell_type": "code",
      "source": [
        "n = int(input(\"Digite um número para ver sua tabuada: \"))\n",
        "for i in range(1, 11):\n",
        "    print(f\"{n} x {i} = {n*i}\")"
      ],
      "metadata": {
        "id": "Y0IEcsKx9bI_"
      },
      "execution_count": null,
      "outputs": []
    }
  ]
}